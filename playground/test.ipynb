{
 "cells": [
  {
   "cell_type": "code",
   "execution_count": null,
   "metadata": {},
   "outputs": [],
   "source": [
    "import torch\n",
    "from pathlib import Path\n",
    "from ibp_neurips19 import models\n",
    "from ibp_neurips19.attacks import compute_robustness"
   ]
  },
  {
   "cell_type": "code",
   "execution_count": null,
   "metadata": {},
   "outputs": [],
   "source": [
    "# model = 'small'\n",
    "# dataset = 'CIFAR10'\n",
    "# epsilon = 0.01\n",
    "# net = models.fit_to_dataset(models.__dict__[f'{model}_cnn'](), dataset).eval()\n",
    "# # checkpoint = torch.load(Path.home() / f'results/{dataset}-{model}_cnn-{epsilon}/0.001/checkpoint.pth')\n",
    "# checkpoint = torch.load(Path.home() / f'results/dm_torch/{dataset.lower()}-{model}-{epsilon}.pth')\n",
    "# net.load_state_dict(checkpoint['state_dict'])\n",
    "# # 100 - checkpoint['best_acc1']"
   ]
  },
  {
   "cell_type": "code",
   "execution_count": null,
   "metadata": {},
   "outputs": [],
   "source": [
    "# results = compute_robustness(net, dataset, 'cuda', restarts=1, subset=None, subset_seed=None, attack_kwargs=dict(epsilon=2/255))\n",
    "# print(results.robustness)\n",
    "# results.fooling_rate * 100"
   ]
  },
  {
   "cell_type": "code",
   "execution_count": null,
   "metadata": {},
   "outputs": [],
   "source": [
    "from itertools import product \n",
    "\n",
    "main_dir = '/home/modar/results'\n",
    "def experiments():\n",
    "    datasets = ['MNIST', 'CIFAR10']\n",
    "    epsilons = [0.01, 0.03, 0.1, 0.2]\n",
    "    model_size = ['small', 'medium']\n",
    "    learning_rates = [0, 1e-1, 1e-2, 1e-3]\n",
    "    test_epsilons = [2 / 255, 0.1, 0.2, 0.3]\n",
    "    for dataset, epsilon, model, learning_rate, test_epsilon in product(\n",
    "            datasets, epsilons, model_size, learning_rates, test_epsilons):\n",
    "        if dataset == 'CIFAR10':\n",
    "            if test_epsilon != 2 / 255 or epsilon != 0.01:\n",
    "                continue\n",
    "        elif test_epsilon == 2 / 255 or epsilon == 0.01:\n",
    "            continue\n",
    "        yield dataset, epsilon, model, learning_rate, test_epsilon\n",
    "\n",
    "for i, (dataset, epsilon, model, learning_rate,\n",
    "        test_epsilon) in enumerate(experiments()):\n",
    "    if model != 'medium' or dataset != 'CIFAR10' or epsilon != 0.01:\n",
    "        continue\n",
    "    if learning_rate == 0:\n",
    "        checkpoint_file = (f'{main_dir}/dm_torch/'\n",
    "                           f'{dataset.lower()}-{model}-{epsilon}.pth')\n",
    "    else:\n",
    "        checkpoint_file = (f'{main_dir}/{dataset}-{model}_cnn-{epsilon}'\n",
    "                           f'/{learning_rate}/checkpoint.pth')\n",
    "    checkpoint_file = Path(checkpoint_file)\n",
    "#     print(i, f'{dataset}-{model}-{epsilon}', learning_rate, test_epsilon)\n",
    "    checkpoint = torch.load(checkpoint_file)\n",
    "    accuracy = checkpoint['accuracy'] if learning_rate == 0 else checkpoint['best_acc1'] / 100\n",
    "    desired_test_epsilon = 2 / 255\n",
    "    if test_epsilon != desired_test_epsilon:\n",
    "        continue\n",
    "    test_epsilon = checkpoint['PGD'][0]['epsilon']\n",
    "    if test_epsilon != desired_test_epsilon:\n",
    "        continue\n",
    "    fooling_rate = checkpoint['PGD'][0]['fooling_rate']\n",
    "    exp = f'{dataset}-{model}-{epsilon}:{test_epsilon}-{learning_rate}'\n",
    "    print(f\"{exp} [{100 * accuracy:0.2f}%] = {100 * fooling_rate:.2f}%\")\n",
    "    "
   ]
  }
 ],
 "metadata": {
  "kernelspec": {
   "display_name": "ibp-neurips19",
   "language": "python",
   "name": "ibp-neurips19"
  },
  "language_info": {
   "codemirror_mode": {
    "name": "ipython",
    "version": 3
   },
   "file_extension": ".py",
   "mimetype": "text/x-python",
   "name": "python",
   "nbconvert_exporter": "python",
   "pygments_lexer": "ipython3",
   "version": "3.7.2"
  }
 },
 "nbformat": 4,
 "nbformat_minor": 2
}
