{
 "cells": [
  {
   "cell_type": "code",
   "execution_count": null,
   "metadata": {},
   "outputs": [],
   "source": [
    "import torch\n",
    "from pathlib import Path\n",
    "from ibp_neurips19 import models\n",
    "from argparse import Namespace\n",
    "\n",
    "def iter_results(main_dir=Path.home() / 'results', exclude=None, with_models=False):\n",
    "    main_dir = Path(main_dir)\n",
    "    for file in sorted((main_dir / 'pgd').iterdir()):\n",
    "        r = Namespace(**torch.load(file))\n",
    "        if exclude and exclude(r):\n",
    "            continue\n",
    "        if r.learning_rate == 0:\n",
    "            checkpoint_file = (f'{main_dir}/dm_torch/'\n",
    "                               f'{r.dataset.lower()}-{r.model}-{r.epsilon}.pth')\n",
    "        else:\n",
    "            checkpoint_file = (f'{main_dir}/{r.dataset}-{r.model}_cnn-{r.epsilon}'\n",
    "                               f'/{r.learning_rate}/checkpoint.pth')\n",
    "        r.checkpoint_file = Path(checkpoint_file)\n",
    "        checkpoint = torch.load(r.checkpoint_file)\n",
    "        r.accuracy = checkpoint['accuracy'] if r.learning_rate == 0 else checkpoint['best_acc1'] / 100\n",
    "        if with_models:\n",
    "            r.net = models.__dict__[f'{r.model}_cnn']()\n",
    "            models.fit_to_dataset(r.net, r.dataset).eval()\n",
    "            r.net.load_state_dict(checkpoint['state_dict'])\n",
    "        yield r"
   ]
  },
  {
   "cell_type": "code",
   "execution_count": null,
   "metadata": {},
   "outputs": [],
   "source": [
    "# exclude = lambda r: r.dataset != 'MNIST' or r.model != 'large' or r.epsilon != 0.1 or r.test_epsilon != 0.1\n",
    "\n",
    "# for r in iter_results(exclude=exclude):\n",
    "#     exp = f'{r.dataset}-{r.model}-{r.epsilon}:{r.test_epsilon:.4e}-{r.learning_rate}'\n",
    "#     print(f\"{exp} [{100 * r.accuracy:0.2f}%] = {100 * (1 - r.fooling_rate):.2f}%\")"
   ]
  },
  {
   "cell_type": "code",
   "execution_count": null,
   "metadata": {},
   "outputs": [],
   "source": [
    "from collections import defaultdict\n",
    "\n",
    "results = defaultdict(lambda: defaultdict(dict))\n",
    "for r in iter_results(exclude=lambda r: r.dataset != 'MNIST' or r.model != 'medium'):\n",
    "    results[r.dataset, r.model, r.epsilon][r.learning_rate][r.test_epsilon] = Namespace(\n",
    "        accuracy=r.accuracy, fooling_rate=r.fooling_rate)"
   ]
  },
  {
   "cell_type": "code",
   "execution_count": null,
   "metadata": {},
   "outputs": [],
   "source": [
    "import numpy as np\n",
    "from matplotlib import pyplot as plt\n",
    "\n",
    "for key in results:\n",
    "    for learning_rate, r in results[key].items():\n",
    "        test_epsilons = list(r.keys())\n",
    "        accuracy = [v.accuracy for v in r.values()][0]  # all the same\n",
    "        pgd_accuracy = [1 - v.fooling_rate for v in r.values()]\n",
    "        test_epsilons, pgd_accuracy = zip(*sorted(zip(test_epsilons, pgd_accuracy)))\n",
    "        auc = np.trapz(pgd_accuracy, test_epsilons) / (test_epsilons[-1] - test_epsilons[0])\n",
    "        if learning_rate == 0:\n",
    "            label = f'[{100 * accuracy:.2f}% - {100 * auc:.2f}%] Deep Mind'\n",
    "        else:\n",
    "            label = f'[{100 * accuracy:.2f}% - {100 * auc:.2f}%] lr = {learning_rate}'\n",
    "        plt.plot(test_epsilons, pgd_accuracy, marker='o', label=label)\n",
    "\n",
    "    plt.title(str(key))\n",
    "    plt.ylabel('PGD accuracy')\n",
    "    plt.xlabel('eps_test')\n",
    "    plt.legend()\n",
    "    plt.show()"
   ]
  }
 ],
 "metadata": {
  "kernelspec": {
   "display_name": "ibp-neurips19",
   "language": "python",
   "name": "ibp-neurips19"
  },
  "language_info": {
   "codemirror_mode": {
    "name": "ipython",
    "version": 3
   },
   "file_extension": ".py",
   "mimetype": "text/x-python",
   "name": "python",
   "nbconvert_exporter": "python",
   "pygments_lexer": "ipython3",
   "version": "3.7.2"
  }
 },
 "nbformat": 4,
 "nbformat_minor": 2
}
