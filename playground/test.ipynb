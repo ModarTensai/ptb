{
 "cells": [
  {
   "cell_type": "code",
   "execution_count": null,
   "metadata": {},
   "outputs": [],
   "source": [
    "import torch\n",
    "from pathlib import Path\n",
    "from ibp_neurips19 import models\n",
    "from ibp_neurips19.attacks import compute_robustness"
   ]
  },
  {
   "cell_type": "code",
   "execution_count": null,
   "metadata": {},
   "outputs": [],
   "source": [
    "# model = 'small'\n",
    "# dataset = 'CIFAR10'\n",
    "# epsilon = 0.01\n",
    "# net = models.fit_to_dataset(models.__dict__[f'{model}_cnn'](), dataset).eval()\n",
    "# # checkpoint = torch.load(Path.home() / f'results/{dataset}-{model}_cnn-{epsilon}/0.001/checkpoint.pth')\n",
    "# checkpoint = torch.load(Path.home() / f'results/dm_torch/{dataset.lower()}-{model}-{epsilon}.pth')\n",
    "# net.load_state_dict(checkpoint['state_dict'])\n",
    "# # 100 - checkpoint['best_acc1']"
   ]
  },
  {
   "cell_type": "code",
   "execution_count": null,
   "metadata": {},
   "outputs": [],
   "source": [
    "# results = compute_robustness(net, dataset, 'cuda', restarts=1, subset=None, subset_seed=None, attack_kwargs=dict(epsilon=2/255))\n",
    "# print(results.robustness)\n",
    "# results.fooling_rate * 100"
   ]
  },
  {
   "cell_type": "code",
   "execution_count": null,
   "metadata": {},
   "outputs": [],
   "source": [
    "import torch\n",
    "from pathlib import Path\n",
    "from ibp_neurips19 import models\n",
    "from argparse import Namespace\n",
    "\n",
    "def iter_results(main_dir=Path.home() / 'results', exclude=None, with_models=False):\n",
    "    main_dir = Path(main_dir)\n",
    "    for file in sorted((main_dir / 'pgd').iterdir()):\n",
    "        r = Namespace(**torch.load(file))\n",
    "        if exclude and exclude(r):\n",
    "            continue\n",
    "        if r.learning_rate == 0:\n",
    "            checkpoint_file = (f'{main_dir}/dm_torch/'\n",
    "                               f'{r.dataset.lower()}-{r.model}-{r.epsilon}.pth')\n",
    "        else:\n",
    "            checkpoint_file = (f'{main_dir}/{r.dataset}-{r.model}_cnn-{r.epsilon}'\n",
    "                               f'/{r.learning_rate}/checkpoint.pth')\n",
    "        r.checkpoint_file = Path(checkpoint_file)\n",
    "        checkpoint = torch.load(r.checkpoint_file)\n",
    "        r.accuracy = checkpoint['accuracy'] if r.learning_rate == 0 else checkpoint['best_acc1'] / 100\n",
    "        if with_models:\n",
    "            r.net = models.__dict__[f'{r.model}_cnn']()\n",
    "            models.fit_to_dataset(r.net, r.dataset).eval()\n",
    "            r.net.load_state_dict(checkpoint['state_dict'])\n",
    "        yield r"
   ]
  },
  {
   "cell_type": "code",
   "execution_count": null,
   "metadata": {},
   "outputs": [],
   "source": [
    "exclude = lambda r: r.dataset != 'MNIST' or r.model != 'large' or r.epsilon != 0.1 or r.test_epsilon != 0.1\n",
    "\n",
    "for r in iter_results(exclude=exclude):\n",
    "    exp = f'{r.dataset}-{r.model}-{r.epsilon}:{r.test_epsilon:.4e}-{r.learning_rate}'\n",
    "    print(f\"{exp} [{100 * r.accuracy:0.2f}%] = {100 * (1 - r.fooling_rate):.2f}%\")"
   ]
  }
 ],
 "metadata": {
  "kernelspec": {
   "display_name": "ibp-neurips19",
   "language": "python",
   "name": "ibp-neurips19"
  },
  "language_info": {
   "codemirror_mode": {
    "name": "ipython",
    "version": 3
   },
   "file_extension": ".py",
   "mimetype": "text/x-python",
   "name": "python",
   "nbconvert_exporter": "python",
   "pygments_lexer": "ipython3",
   "version": "3.7.2"
  }
 },
 "nbformat": 4,
 "nbformat_minor": 2
}
