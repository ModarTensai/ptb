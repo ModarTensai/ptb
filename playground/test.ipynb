{
 "cells": [
  {
   "cell_type": "code",
   "execution_count": null,
   "metadata": {},
   "outputs": [],
   "source": [
    "import torch\n",
    "from pathlib import Path\n",
    "from ibp_neurips19 import models\n",
    "from ibp_neurips19.attacks import compute_robustness"
   ]
  },
  {
   "cell_type": "code",
   "execution_count": null,
   "metadata": {},
   "outputs": [],
   "source": [
    "# model = 'small'\n",
    "# dataset = 'CIFAR10'\n",
    "# epsilon = 0.01\n",
    "# net = models.fit_to_dataset(models.__dict__[f'{model}_cnn'](), dataset).eval()\n",
    "# # checkpoint = torch.load(Path.home() / f'results/{dataset}-{model}_cnn-{epsilon}/0.001/checkpoint.pth')\n",
    "# checkpoint = torch.load(Path.home() / f'results/dm_torch/{dataset.lower()}-{model}-{epsilon}.pth')\n",
    "# net.load_state_dict(checkpoint['state_dict'])\n",
    "# # 100 - checkpoint['best_acc1']"
   ]
  },
  {
   "cell_type": "code",
   "execution_count": null,
   "metadata": {},
   "outputs": [],
   "source": [
    "# results = compute_robustness(net, dataset, 'cuda', restarts=1, subset=None, subset_seed=None, attack_kwargs=dict(epsilon=2/255))\n",
    "# print(results.robustness)\n",
    "# results.fooling_rate * 100"
   ]
  },
  {
   "cell_type": "code",
   "execution_count": null,
   "metadata": {},
   "outputs": [],
   "source": [
    "import torch\n",
    "from pathlib import Path\n",
    "from ibp_neurips19 import models\n",
    "\n",
    "main_dir = Path('/home/modar/results')\n",
    "for file in (main_dir / 'pgd').iterdir():\n",
    "    data = torch.load(file)\n",
    "    model = data['model']\n",
    "    dataset = data['dataset']\n",
    "    epsilon = data['epsilon']\n",
    "    learning_rate = data['learning_rate']\n",
    "#     seed = data['seed']\n",
    "#     subset = data['subset']\n",
    "#     restarts = data['restarts']\n",
    "    test_epsilon = data['test_epsilon']\n",
    "    robustness = data['robustness']\n",
    "    fooling_rate = data['fooling_rate']\n",
    "    sorted_errors = data['sorted_errors']\n",
    "    \n",
    "    if dataset != 'MNIST' or model != 'small' or epsilon != 0.001 or test_epsilon != 0.1:\n",
    "        continue\n",
    "\n",
    "    if learning_rate == 0:\n",
    "        checkpoint_file = (f'{main_dir}/dm_torch/'\n",
    "                           f'{dataset.lower()}-{model}-{epsilon}.pth')\n",
    "    else:\n",
    "        checkpoint_file = (f'{main_dir}/{dataset}-{model}_cnn-{epsilon}'\n",
    "                           f'/{learning_rate}/checkpoint.pth')\n",
    "    checkpoint_file = Path(checkpoint_file)\n",
    "    checkpoint = torch.load(checkpoint_file)\n",
    "    accuracy = checkpoint['accuracy'] if learning_rate == 0 else checkpoint['best_acc1'] / 100\n",
    "\n",
    "    exp = f'{dataset}-{model}-{epsilon}:{test_epsilon:.4e}-{learning_rate}'\n",
    "\n",
    "#     net = models.__dict__[f'{model}_cnn']()\n",
    "#     models.fit_to_dataset(net, dataset).eval()\n",
    "#     net.load_state_dict(checkpoint['state_dict'])\n",
    "    \n",
    "    print(f\"{exp} [{100 * accuracy:0.2f}%] = {100 * fooling_rate:.2f}%\")"
   ]
  }
 ],
 "metadata": {
  "kernelspec": {
   "display_name": "ibp-neurips19",
   "language": "python",
   "name": "ibp-neurips19"
  },
  "language_info": {
   "codemirror_mode": {
    "name": "ipython",
    "version": 3
   },
   "file_extension": ".py",
   "mimetype": "text/x-python",
   "name": "python",
   "nbconvert_exporter": "python",
   "pygments_lexer": "ipython3",
   "version": "3.7.2"
  }
 },
 "nbformat": 4,
 "nbformat_minor": 2
}
