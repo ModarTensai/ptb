{
 "cells": [
  {
   "cell_type": "code",
   "execution_count": null,
   "metadata": {},
   "outputs": [],
   "source": [
    "import torch\n",
    "from foolbox.attacks import PGD\n",
    "from foolbox.distances import Linfinity\n",
    "from foolbox.models import PyTorchModel\n",
    "from ibp_neurips19.models import small_cnn\n",
    "from ibp_neurips19.datasets import get_dataset\n",
    "from torch.utils.data.dataset import random_split"
   ]
  },
  {
   "cell_type": "code",
   "execution_count": null,
   "metadata": {},
   "outputs": [],
   "source": [
    "net = small_cnn().eval()\n",
    "checkpoint = torch.load('checkpoint.pth')\n",
    "net.load_state_dict(checkpoint['state_dict'])\n",
    "dataset, _ = random_split(get_dataset('MNIST', False), [int(1e2), int(1e4-1e2)])\n",
    "normalization = dataset.dataset.transform.transforms[1]\n",
    "net = PyTorchModel(\n",
    "    net,\n",
    "    bounds=(0, 1),\n",
    "    num_classes=len(dataset.dataset.classes),\n",
    "    preprocessing=(normalization.mean, normalization.std),\n",
    "    device='cpu',\n",
    ")\n",
    "dataset.dataset.transform = dataset.dataset.transform.transforms[0]\n",
    "image, label = dataset[0]"
   ]
  },
  {
   "cell_type": "code",
   "execution_count": null,
   "metadata": {},
   "outputs": [],
   "source": [
    "kwargs = dict(unpack=False, binary_search=False, epsilon=0.12, stepsize=0.1, iterations=20, random_start=True)\n",
    "attack = PGD(net, distance=Linfinity)\n",
    "adversarial = attack(image.numpy(), int(label), **kwargs)\n",
    "failed = (adversarial.distance.value == 0 or\n",
    "          adversarial.reached_threshold() or\n",
    "          adversarial.image is None)\n",
    "adversarial.distance.value"
   ]
  }
 ],
 "metadata": {
  "kernelspec": {
   "display_name": "ibp-neurips19",
   "language": "python",
   "name": "ibp-neurips19"
  },
  "language_info": {
   "codemirror_mode": {
    "name": "ipython",
    "version": 3
   },
   "file_extension": ".py",
   "mimetype": "text/x-python",
   "name": "python",
   "nbconvert_exporter": "python",
   "pygments_lexer": "ipython3",
   "version": "3.7.2"
  }
 },
 "nbformat": 4,
 "nbformat_minor": 2
}
