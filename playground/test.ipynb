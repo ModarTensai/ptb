{
 "cells": [
  {
   "cell_type": "code",
   "execution_count": 1,
   "metadata": {},
   "outputs": [],
   "source": [
    "import torch\n",
    "from pathlib import Path\n",
    "from ibp_neurips19.models import small_cnn\n",
    "from ibp_neurips19.attacks import compute_robustness"
   ]
  },
  {
   "cell_type": "code",
   "execution_count": 2,
   "metadata": {},
   "outputs": [
    {
     "data": {
      "text/plain": [
       "1.730000000000004"
      ]
     },
     "execution_count": 2,
     "metadata": {},
     "output_type": "execute_result"
    }
   ],
   "source": [
    "net = small_cnn().eval()\n",
    "checkpoint = torch.load(Path.home() / 'results/MNIST-small_cnn-0.1/checkpoint.pth')\n",
    "net.load_state_dict(checkpoint['state_dict'])\n",
    "100 - checkpoint['best_acc1']"
   ]
  },
  {
   "cell_type": "code",
   "execution_count": 3,
   "metadata": {},
   "outputs": [
    {
     "name": "stderr",
     "output_type": "stream",
     "text": [
      "Computing PGD robustness: 100%|██████████| 50/50 [00:00<00:00, 90.40it/s] "
     ]
    },
    {
     "name": "stdout",
     "output_type": "stream",
     "text": [
      "0.40000003576278687\n"
     ]
    },
    {
     "name": "stderr",
     "output_type": "stream",
     "text": [
      "\n"
     ]
    },
    {
     "data": {
      "text/plain": [
       "100.0"
      ]
     },
     "execution_count": 3,
     "metadata": {},
     "output_type": "execute_result"
    }
   ],
   "source": [
    "results = compute_robustness(net, 'MNIST', 'cuda:1', 'PGD', restarts=10, subset=50, attack_kwargs=dict(epsilon=0.4))\n",
    "print(results.robustness)\n",
    "results.fooling_rate * 100"
   ]
  }
 ],
 "metadata": {
  "kernelspec": {
   "display_name": "ibp-neurips19",
   "language": "python",
   "name": "ibp-neurips19"
  },
  "language_info": {
   "codemirror_mode": {
    "name": "ipython",
    "version": 3
   },
   "file_extension": ".py",
   "mimetype": "text/x-python",
   "name": "python",
   "nbconvert_exporter": "python",
   "pygments_lexer": "ipython3",
   "version": "3.7.2"
  }
 },
 "nbformat": 4,
 "nbformat_minor": 2
}
